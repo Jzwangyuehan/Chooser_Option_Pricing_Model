{
 "cells": [
  {
   "cell_type": "code",
   "execution_count": 8,
   "id": "93c61046-dfdc-4d82-bbce-1be8bf4e545c",
   "metadata": {},
   "outputs": [],
   "source": [
    "# Pricing American-Style Chooser Options with the Longstaff-Schwartz Method\n",
    "\n",
    "## 1. Import Required Libraries\n",
    "#First, we need to import the Python libraries required for the program, including `numpy` for numerical computations and `LinearRegression` from `sklearn.linear_model` for linear regression analysis.\n",
    "#```python\n",
    "import numpy as np\n",
    "from sklearn.linear_model import LinearRegression"
   ]
  },
  {
   "cell_type": "code",
   "execution_count": 9,
   "id": "6259b29d-b915-4ff0-adfd-22f301ff9673",
   "metadata": {},
   "outputs": [],
   "source": [
    "# Basic parameter settings\n",
    "S0 = 100  # Initial stock price\n",
    "K = 100   # Strike price\n",
    "r = 0.05  # Risk-free interest rate\n",
    "sigma = 0.2  # Stock price volatility\n",
    "T = 1.0   # Time to option maturity (in years)\n",
    "U = 0.5   # Choice time for the chooser option (in years)\n",
    "n_steps = 50  # Number of time steps\n",
    "n_paths = 10000  # Number of Monte Carlo simulation paths\n",
    "\n",
    "# Calculate derived parameters\n",
    "dt = T / n_steps  # Time interval per step\n",
    "discount = np.exp(-r * dt)  # Single-step discount factor\n",
    "U_step = int(U / dt)  # Time step corresponding to the choice time"
   ]
  },
  {
   "cell_type": "code",
   "execution_count": 10,
   "id": "6a4531fb-faf9-47c8-a123-a96a1ed16f63",
   "metadata": {},
   "outputs": [],
   "source": [
    "# Generate random numbers and initialize the stock price array\n",
    "np.random.seed(42)  # Set random seed to ensure result reproducibility\n",
    "Z = np.random.randn(n_paths, n_steps)  # Random numbers following standard normal distribution\n",
    "S = np.zeros((n_paths, n_steps + 1))  # Array to store stock price paths\n",
    "S[:, 0] = S0  # Set initial stock price for all paths\n",
    "\n",
    "# Simulate stock price paths (Geometric Brownian Motion)\n",
    "for t in range(1, n_steps + 1):\n",
    "    S[:, t] = S[:, t - 1] * np.exp(\n",
    "        (r - 0.5 * sigma **2) * dt + sigma * np.sqrt(dt) * Z[:, t - 1]\n",
    "    )"
   ]
  },
  {
   "cell_type": "code",
   "execution_count": 11,
   "id": "86b446ec-08f6-4058-9436-6d780e754780",
   "metadata": {},
   "outputs": [],
   "source": [
    "def lsm_option_value(S_paths, K, r, dt, option_type='call'):\n",
    "    \"\"\"\n",
    "    Calculate the value of American options using the Longstaff-Schwartz method.\n",
    "    \n",
    "    Parameters:\n",
    "    S_paths: Array of stock price paths, with shape (n_paths, n_steps+1)\n",
    "    K: Strike price of the option\n",
    "    r: Risk-free interest rate\n",
    "    dt: Time interval per step\n",
    "    option_type: Type of option ('call' for call option, 'put' for put option; default is 'call')\n",
    "    \n",
    "    Returns:\n",
    "    Average value of the option across all simulation paths\n",
    "    \"\"\"\n",
    "    n_paths, n_steps = S_paths.shape\n",
    "    cashflows = np.zeros_like(S_paths)  # Array to store cash flows at each time step for each path\n",
    "    \n",
    "    # Initialize cash flows at option maturity\n",
    "    if option_type == 'call':\n",
    "        cashflows[:, -1] = np.maximum(S_paths[:, -1] - K, 0)  # Payoff of call option at maturity\n",
    "    else:\n",
    "        cashflows[:, -1] = np.maximum(K - S_paths[:, -1], 0)  # Payoff of put option at maturity\n",
    "    \n",
    "    # Backward iteration starting from the step before maturity\n",
    "    for t in range(n_steps - 2, -1, -1):\n",
    "        # Filter paths where the option is in-the-money (ITM) (exercising may yield value here)\n",
    "        itm = (cashflows[:, t + 1] > 0)\n",
    "        X = S_paths[itm, t]  # Stock prices at time t for ITM paths\n",
    "        Y = cashflows[itm, t + 1] * discount  # Discounted cash flows from the next step for ITM paths\n",
    "        \n",
    "        if len(X) == 0:  # Skip if there are no ITM paths\n",
    "            continue\n",
    "        \n",
    "        # Reshape X to 2D array (required by scikit-learn's LinearRegression)\n",
    "        X = X.reshape(-1, 1)\n",
    "        # Fit linear regression model to estimate the value of continuing to hold the option\n",
    "        model = LinearRegression().fit(X, Y)\n",
    "        continuation = model.predict(X)  # Predicted value of continuing to hold the option\n",
    "        \n",
    "        # Calculate the payoff if exercising the option at time t\n",
    "        exercise = (\n",
    "            np.maximum(S_paths[itm, t] - K, 0)\n",
    "            if option_type == 'call'\n",
    "            else np.maximum(K - S_paths[itm, t], 0)\n",
    "        )\n",
    "        \n",
    "        # Identify paths where exercising is optimal (exercise value > continuation value)\n",
    "        exercise_indices = np.where(exercise > continuation)[0]\n",
    "        full_indices = np.where(itm)[0][exercise_indices]\n",
    "        \n",
    "        # Update cash flows: record exercise value at current step for optimal exercise paths,\n",
    "        # and set cash flows for subsequent steps to 0 (since the option is exercised)\n",
    "        cashflows[full_indices, t] = exercise[exercise_indices]\n",
    "        cashflows[full_indices, t + 1:] = 0\n",
    "    \n",
    "    # Calculate discounted values of cash flows for all paths and take the average\n",
    "    discounts = np.exp(-r * dt * np.arange(cashflows.shape[1]))\n",
    "    discounted_values = cashflows * discounts\n",
    "    return np.mean(np.max(discounted_values, axis=1))"
   ]
  },
  {
   "cell_type": "code",
   "execution_count": 12,
   "id": "fadf972b-6e5a-4ea8-8ac5-577d80993849",
   "metadata": {},
   "outputs": [
    {
     "name": "stdout",
     "output_type": "stream",
     "text": [
      "American-style Chooser Option Price (via LSM): 10.3540\n"
     ]
    }
   ],
   "source": [
    "# Extract stock price paths starting from the choice time (U)\n",
    "S_U = S[:, U_step:]\n",
    "\n",
    "# Calculate the values of American call and put options after the choice time, respectively\n",
    "call_val = lsm_option_value(S_U, K, r, dt, option_type='call')\n",
    "put_val = lsm_option_value(S_U, K, r, dt, option_type='put')\n",
    "\n",
    "# Calculate the chooser option price: discount the maximum value (call or put) at the choice time\n",
    "# back to the current time (using the risk-free rate)\n",
    "chooser_price = np.exp(-r * U) * np.mean(np.maximum(call_val, put_val))\n",
    "\n",
    "# Print the result\n",
    "print(f\"American-style Chooser Option Price (via LSM): {chooser_price:.4f}\")"
   ]
  },
  {
   "cell_type": "code",
   "execution_count": null,
   "id": "9ddc15a5-e244-4141-b5c2-51f0e7178659",
   "metadata": {},
   "outputs": [],
   "source": []
  }
 ],
 "metadata": {
  "kernelspec": {
   "display_name": "Python 3 (ipykernel)",
   "language": "python",
   "name": "python3"
  },
  "language_info": {
   "codemirror_mode": {
    "name": "ipython",
    "version": 3
   },
   "file_extension": ".py",
   "mimetype": "text/x-python",
   "name": "python",
   "nbconvert_exporter": "python",
   "pygments_lexer": "ipython3",
   "version": "3.13.5"
  }
 },
 "nbformat": 4,
 "nbformat_minor": 5
}
